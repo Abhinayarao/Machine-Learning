{
  "nbformat": 4,
  "nbformat_minor": 0,
  "metadata": {
    "colab": {
      "provenance": [],
      "authorship_tag": "ABX9TyMjEJOfANy6NxObpsIDjQiD",
      "include_colab_link": true
    },
    "kernelspec": {
      "name": "python3",
      "display_name": "Python 3"
    },
    "language_info": {
      "name": "python"
    }
  },
  "cells": [
    {
      "cell_type": "markdown",
      "metadata": {
        "id": "view-in-github",
        "colab_type": "text"
      },
      "source": [
        "<a href=\"https://colab.research.google.com/github/Abhinayarao/Machine-Learning/blob/main/Introduction.ipynb\" target=\"_parent\"><img src=\"https://colab.research.google.com/assets/colab-badge.svg\" alt=\"Open In Colab\"/></a>"
      ]
    },
    {
      "cell_type": "markdown",
      "source": [
        "#AI Application\n",
        "AI application is able to do it's own AI task without any human intervention   \n",
        "Example: Netflix --> Action --> Recommendation\n",
        "*  Self driving cars"
      ],
      "metadata": {
        "id": "O_4pRPmCfQuK"
      }
    },
    {
      "cell_type": "markdown",
      "source": [
        "#ML\n",
        "Machine learning is a subset of AI. It provides stats tool to analyze the data visualise the data also to do predictions and forecasting.\n",
        "\n",
        "#Deep Learning\n",
        "DL is a subset of ML.Main aim is Mimicking human brains so they actually create multi-layer neural network.It will help us to train the machines or applications. With the help of DL we're able to solve complex problems"
      ],
      "metadata": {
        "id": "LfXeWD6Egf_-"
      }
    },
    {
      "cell_type": "markdown",
      "source": [
        "#Regression Problem\n",
        "In a regression problem output will be always a continuous variable"
      ],
      "metadata": {
        "id": "31bTR-OkWg1w"
      }
    },
    {
      "cell_type": "markdown",
      "source": [
        "#Classification Problem\n",
        "whenever you have in your output fixed number of categories then\n",
        "that becomes a classification problem.\n",
        "\n",
        "suppose it just has two outputs then it becomes a **binary classification**\n",
        "\n",
        "If you have more than two different categories at that time it becomes a **multiclass classification** so this is the difference between regression problem statement and the classification problem statement"
      ],
      "metadata": {
        "id": "6qBdaBc2XKFr"
      }
    }
  ]
}