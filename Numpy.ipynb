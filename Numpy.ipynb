{
  "nbformat": 4,
  "nbformat_minor": 0,
  "metadata": {
    "colab": {
      "provenance": [],
      "authorship_tag": "ABX9TyPTh7aZ7P9Xe0UoRJclzAqg",
      "include_colab_link": true
    },
    "kernelspec": {
      "name": "python3",
      "display_name": "Python 3"
    },
    "language_info": {
      "name": "python"
    }
  },
  "cells": [
    {
      "cell_type": "markdown",
      "metadata": {
        "id": "view-in-github",
        "colab_type": "text"
      },
      "source": [
        "<a href=\"https://colab.research.google.com/github/Abhinayarao/Machine-Learning/blob/main/Numpy.ipynb\" target=\"_parent\"><img src=\"https://colab.research.google.com/assets/colab-badge.svg\" alt=\"Open In Colab\"/></a>"
      ]
    },
    {
      "cell_type": "markdown",
      "source": [
        "#Numpy\n",
        "NumPy is a Python library used for working with arrays.\n",
        "\n",
        "It also has functions for working in domain of linear algebra, fourier transform, and matrices.\n",
        "\n",
        "NumPy stands for Numerical Python.\n",
        "\n",
        "NumPy arrays are stored at one continuous place in memory unlike lists, so processes can access and manipulate them very efficiently. This behavior is called locality of reference"
      ],
      "metadata": {
        "id": "KNl8rJutJ2V0"
      }
    },
    {
      "cell_type": "markdown",
      "source": [
        "NumPy is used to work with arrays. The array object in NumPy is called ndarray.\n",
        "\n",
        "*  We can create a NumPy ndarray object by using the array() function.\n",
        "*  To create an ndarray, we can pass a list, tuple or any array-like object into the array() method, and it will be converted into an ndarray\n"
      ],
      "metadata": {
        "id": "wVpcuWG1XtkA"
      }
    },
    {
      "cell_type": "code",
      "source": [
        "import numpy as np\n",
        "a = np.array(('python', 'Sql', 'Excel'))\n",
        "print(a)\n",
        "print(type(a))"
      ],
      "metadata": {
        "colab": {
          "base_uri": "https://localhost:8080/"
        },
        "id": "IxoA5IrDQhpk",
        "outputId": "7f03daf8-2a6f-4a74-e48e-de774cdf6281"
      },
      "execution_count": null,
      "outputs": [
        {
          "output_type": "stream",
          "name": "stdout",
          "text": [
            "['python' 'Sql' 'Excel']\n",
            "<class 'numpy.ndarray'>\n"
          ]
        }
      ]
    },
    {
      "cell_type": "code",
      "source": [
        "#The version string is stored under __version__ attribute.\n",
        "print(np.__version__)"
      ],
      "metadata": {
        "colab": {
          "base_uri": "https://localhost:8080/"
        },
        "id": "Msgm_KZeRW2k",
        "outputId": "3d8ad4d7-eb6e-47d1-d4cb-63ec9ce9b2b1"
      },
      "execution_count": null,
      "outputs": [
        {
          "output_type": "stream",
          "name": "stdout",
          "text": [
            "2.0.2\n"
          ]
        }
      ]
    },
    {
      "cell_type": "markdown",
      "source": [
        "#Dimensions in Arrays\n",
        "Dimensions are nothing but writing a data(columns) into array in numpy.The list we have written are columns. It should be in a equal sequence.\n",
        "\n",
        "For example to change the values in a table we'll write table data(columns) in numpy then we'll apply methods on it.\n",
        "\n",
        "NumPy Arrays provides the **ndim** attribute that returns an integer that tells us how many dimensions the array have.\n"
      ],
      "metadata": {
        "id": "H9Gjov4xeqGf"
      }
    },
    {
      "cell_type": "code",
      "source": [
        "\n",
        "a = np.array(8)\n",
        "b = np.array([1,2,3])\n",
        "c = np.array([[1,2,3], [4,5,6]])\n",
        "d = np.array([[[1,2,3], [4,5,6], [7,8,9]]])\n",
        "print(a.ndim)\n",
        "print(b.ndim)\n",
        "print(c.ndim)\n",
        "print(d.ndim)"
      ],
      "metadata": {
        "colab": {
          "base_uri": "https://localhost:8080/"
        },
        "id": "W_RrMY5wdm_U",
        "outputId": "ae17099b-c74e-4c3b-9447-ecfb63bf2b38"
      },
      "execution_count": null,
      "outputs": [
        {
          "output_type": "stream",
          "name": "stdout",
          "text": [
            "0\n",
            "1\n",
            "2\n",
            "3\n"
          ]
        }
      ]
    },
    {
      "cell_type": "code",
      "source": [
        "#When the array is created, you can define the number of dimensions by using the ndmin argument.\n",
        "a = np.array([1,2,3,4], ndmin=4)\n",
        "print(a)"
      ],
      "metadata": {
        "colab": {
          "base_uri": "https://localhost:8080/"
        },
        "id": "bvlsEUfMgqIe",
        "outputId": "d72f6184-3ebc-49b3-859b-b34a83f53f82"
      },
      "execution_count": null,
      "outputs": [
        {
          "output_type": "stream",
          "name": "stdout",
          "text": [
            "[[[[1 2 3 4]]]]\n"
          ]
        }
      ]
    },
    {
      "cell_type": "markdown",
      "source": [
        "Array Indexing"
      ],
      "metadata": {
        "id": "tCqXx2jqi9mN"
      }
    },
    {
      "cell_type": "code",
      "source": [
        "#Think of 2-D arrays like a table with rows and columns, where the dimension represents the row and the index represents the column.\n",
        "a = np.array([[1,2,3], [4,5,6]])\n",
        "print(a[0,2], a[1,2])"
      ],
      "metadata": {
        "colab": {
          "base_uri": "https://localhost:8080/"
        },
        "id": "nqy2xfs7i8hw",
        "outputId": "2b7617ec-2825-4a42-8ad7-dca4f53fb21b"
      },
      "execution_count": null,
      "outputs": [
        {
          "output_type": "stream",
          "name": "stdout",
          "text": [
            "3 6\n"
          ]
        }
      ]
    },
    {
      "cell_type": "code",
      "source": [
        "#To access elements from 3-D arrays we can use comma separated integers representing the dimensions and the index of the element.\n",
        "d = np.array([[[1,2,3], [4,5,6]],[[7,8,9],[11,12,1]]])\n",
        "print(d[0,1,2])\n"
      ],
      "metadata": {
        "colab": {
          "base_uri": "https://localhost:8080/"
        },
        "id": "PDBvHrN8lQJo",
        "outputId": "c993994b-caea-4e5b-dbb4-6760dbc18879"
      },
      "execution_count": null,
      "outputs": [
        {
          "output_type": "stream",
          "name": "stdout",
          "text": [
            "6\n"
          ]
        }
      ]
    },
    {
      "cell_type": "markdown",
      "source": [
        "Slicing"
      ],
      "metadata": {
        "id": "_bSCMfWqtBBl"
      }
    },
    {
      "cell_type": "code",
      "source": [
        "d = np.array([[[1,2,3], [4,5,6], [7,8,9]]])\n",
        "print(d[0,2,1])"
      ],
      "metadata": {
        "colab": {
          "base_uri": "https://localhost:8080/"
        },
        "id": "TtQ6yybJmQ-k",
        "outputId": "bc0a3565-9663-4c3c-fc45-8e816510a168"
      },
      "execution_count": null,
      "outputs": [
        {
          "output_type": "stream",
          "name": "stdout",
          "text": [
            "8\n"
          ]
        }
      ]
    },
    {
      "cell_type": "markdown",
      "source": [
        "Use the step value to determine the **step** of the slicing"
      ],
      "metadata": {
        "id": "dnCLG2Nhwj_g"
      }
    },
    {
      "cell_type": "code",
      "source": [
        "a = np.array([1,2,3,4,5,6])\n",
        "print(a[0:5:2])"
      ],
      "metadata": {
        "colab": {
          "base_uri": "https://localhost:8080/"
        },
        "id": "Nm-bwdaonda2",
        "outputId": "8de44233-9ea3-4cfb-8f41-355fbd18cf25"
      },
      "execution_count": null,
      "outputs": [
        {
          "output_type": "stream",
          "name": "stdout",
          "text": [
            "[1 3 5]\n"
          ]
        }
      ]
    },
    {
      "cell_type": "markdown",
      "source": [
        "2-D slicing"
      ],
      "metadata": {
        "id": "MO3qJ6Jkw6QO"
      }
    },
    {
      "cell_type": "code",
      "source": [
        "a = np.array([[1,2,3,0,9], [4,5,6,7,8]])\n",
        "print(a[1,0:3])"
      ],
      "metadata": {
        "colab": {
          "base_uri": "https://localhost:8080/"
        },
        "id": "1pATNRvaw6ib",
        "outputId": "976798ac-a72e-45ad-e4c6-870d130d9177"
      },
      "execution_count": null,
      "outputs": [
        {
          "output_type": "stream",
          "name": "stdout",
          "text": [
            "[4 5 6]\n"
          ]
        }
      ]
    },
    {
      "cell_type": "code",
      "source": [
        "a = np.array([[1,2,3,0,9], [4,5,6,7,8]])\n",
        "print(a[0:2,0:3])"
      ],
      "metadata": {
        "colab": {
          "base_uri": "https://localhost:8080/"
        },
        "id": "_v6adTtcxUuT",
        "outputId": "f248ac13-907b-46d2-f007-9b58b1600e7a"
      },
      "execution_count": null,
      "outputs": [
        {
          "output_type": "stream",
          "name": "stdout",
          "text": [
            "[[1 2 3]\n",
            " [4 5 6]]\n"
          ]
        }
      ]
    },
    {
      "cell_type": "code",
      "source": [
        "a = np.array([[1,2,3,0,9], [4,5,6,7,8]])\n",
        "print(a[0:2,2])"
      ],
      "metadata": {
        "colab": {
          "base_uri": "https://localhost:8080/"
        },
        "id": "s_8TbJkmxZcs",
        "outputId": "45185cb2-daa5-4239-efae-1b2f84f1c5e2"
      },
      "execution_count": null,
      "outputs": [
        {
          "output_type": "stream",
          "name": "stdout",
          "text": [
            "[3 6]\n"
          ]
        }
      ]
    },
    {
      "cell_type": "markdown",
      "source": [
        "#Numpy Data Types\n",
        "NumPy has some extra data types, and refer to data types with one character, like i for integers, u for unsigned integers etc.\n",
        "\n",
        "Below is a list of all data types in NumPy and the characters used to represent them.\n",
        "\n",
        "* i - integer\n",
        "* b - boolean\n",
        "* u - unsigned integer\n",
        "* f - float\n",
        "* c - complex float\n",
        "* m - timedelta\n",
        "* M - datetime\n",
        "* O - object\n",
        "* S - string\n",
        "* U - unicode string\n",
        "* V - fixed chunk of memory for other type ( void )"
      ],
      "metadata": {
        "id": "ZsZ44S3-rtnh"
      }
    },
    {
      "cell_type": "code",
      "source": [
        "a = np.array([1,2,3,4,5,6])\n",
        "b = np.array(['Python', 'Sql', 'Excel'])\n",
        "c = np.array(['copyi'])\n",
        "print(a.dtype)\n",
        "print(b.dtype)\n",
        "print(c.dtype)"
      ],
      "metadata": {
        "colab": {
          "base_uri": "https://localhost:8080/"
        },
        "id": "rnq_jO87rNtd",
        "outputId": "d26b276f-3cb4-419f-b3f5-affe1a08b777"
      },
      "execution_count": null,
      "outputs": [
        {
          "output_type": "stream",
          "name": "stdout",
          "text": [
            "int64\n",
            "<U6\n",
            "<U5\n"
          ]
        }
      ]
    },
    {
      "cell_type": "markdown",
      "source": [
        "the array() function to create arrays, this function can take an optional argument: dtype that allows us to define the expected data type of the array elements\n",
        "\n",
        "For i, u, f, S and U we can define size as well."
      ],
      "metadata": {
        "id": "MIYWVH7Cs2Re"
      }
    },
    {
      "cell_type": "code",
      "source": [
        "a = np.array([1,2,3,4,5,6], dtype = 'S')\n",
        "print(a)"
      ],
      "metadata": {
        "colab": {
          "base_uri": "https://localhost:8080/"
        },
        "id": "-ym8mPPKslHX",
        "outputId": "231c55ee-dff2-4b7f-c19b-7d4793e27b5a"
      },
      "execution_count": null,
      "outputs": [
        {
          "output_type": "stream",
          "name": "stdout",
          "text": [
            "[b'1' b'2' b'3' b'4' b'5' b'6']\n"
          ]
        }
      ]
    },
    {
      "cell_type": "code",
      "source": [
        "#'i4' stands for 4-byte (32-bit) signed integer\n",
        "#So, all values in the array will be stored as 32-bit integers.\n",
        "a = np.array([1,2,3,4,5,6], dtype = 'i4')\n",
        "print(a)"
      ],
      "metadata": {
        "colab": {
          "base_uri": "https://localhost:8080/"
        },
        "id": "T9ukGwpNtKRg",
        "outputId": "7af9d5d7-0f6b-4684-ab44-797489fbba7f"
      },
      "execution_count": null,
      "outputs": [
        {
          "output_type": "stream",
          "name": "stdout",
          "text": [
            "[1 2 3 4 5 6]\n"
          ]
        }
      ]
    },
    {
      "cell_type": "markdown",
      "source": [
        "The **astype()** function creates a copy of the array, and allows you to specify the data type as a parameter.\n",
        "\n",
        "The data type can be specified using a string, like 'f' for float, 'i' for integer etc. or you can use the data type directly like float for float and int for integer."
      ],
      "metadata": {
        "id": "sBSW-kSYwFP8"
      }
    },
    {
      "cell_type": "code",
      "source": [
        "a = np.array([1.2,5.6,3.3,4.6])\n",
        "b = a.astype('i')\n",
        "print(a.dtype)\n",
        "print(b)\n",
        "print(b.dtype)"
      ],
      "metadata": {
        "colab": {
          "base_uri": "https://localhost:8080/"
        },
        "id": "42rwbppKwJ1-",
        "outputId": "cac45361-4546-4872-e1a7-fbc860b0b3a7"
      },
      "execution_count": null,
      "outputs": [
        {
          "output_type": "stream",
          "name": "stdout",
          "text": [
            "float64\n",
            "[1 5 3 4]\n",
            "int32\n"
          ]
        }
      ]
    },
    {
      "cell_type": "code",
      "source": [
        "a = np.array([1,0,5, -1])\n",
        "b = a.astype(bool)\n",
        "print(a.dtype)\n",
        "print(b)\n",
        "print(b.dtype)\n"
      ],
      "metadata": {
        "colab": {
          "base_uri": "https://localhost:8080/"
        },
        "id": "pJfwSlJCxeHK",
        "outputId": "ecd4aca0-4d0d-4349-c0ae-3850c2b6c9de"
      },
      "execution_count": null,
      "outputs": [
        {
          "output_type": "stream",
          "name": "stdout",
          "text": [
            "int64\n",
            "[ True False  True  True]\n",
            "bool\n"
          ]
        }
      ]
    },
    {
      "cell_type": "markdown",
      "source": [
        "#Copy and View\n",
        "* The copy owns the data and any changes made to the copy will not affect original array, and any changes made to the original array will not affect the copy.\n",
        "\n",
        "* The view does not own the data and any changes made to the view will affect the original array, and any changes made to the original array will affect the view."
      ],
      "metadata": {
        "id": "HzifvhX03OW2"
      }
    },
    {
      "cell_type": "code",
      "source": [
        "a = np.array(['Python', 'Sql', 'Excel'])\n",
        "b = a.copy()\n",
        "b[1]='Java'  #changing copied array\n",
        "print(a)\n",
        "print(b)"
      ],
      "metadata": {
        "colab": {
          "base_uri": "https://localhost:8080/"
        },
        "id": "SzXDKU243ney",
        "outputId": "e0971597-2dcb-4a04-a981-d98216ef26aa"
      },
      "execution_count": null,
      "outputs": [
        {
          "output_type": "stream",
          "name": "stdout",
          "text": [
            "['Python' 'Sql' 'Excel']\n",
            "['Python' 'Java' 'Excel']\n"
          ]
        }
      ]
    },
    {
      "cell_type": "code",
      "source": [
        "a = np.array(['Python', 'Sql', 'Excel'])\n",
        "b = a.copy()\n",
        "a[1]='Java'  #changing original array\n",
        "print(a)\n",
        "print(b)"
      ],
      "metadata": {
        "colab": {
          "base_uri": "https://localhost:8080/"
        },
        "id": "nHurJQeSbYaf",
        "outputId": "9ef6a771-7eae-4e90-c25d-3027268f2ff1"
      },
      "execution_count": null,
      "outputs": [
        {
          "output_type": "stream",
          "name": "stdout",
          "text": [
            "['Python' 'Java' 'Excel']\n",
            "['Python' 'Sql' 'Excel']\n"
          ]
        }
      ]
    },
    {
      "cell_type": "code",
      "source": [
        "a = np.array(['Python', 'Sql', 'Excel'])\n",
        "b = a.view()\n",
        "b[1]='c++'  #changing view array\n",
        "print(a)\n",
        "print(b)"
      ],
      "metadata": {
        "colab": {
          "base_uri": "https://localhost:8080/"
        },
        "id": "TFH7EGBlZA9X",
        "outputId": "db36a7cf-1a9a-4cd3-8110-51be30dc75a2"
      },
      "execution_count": null,
      "outputs": [
        {
          "output_type": "stream",
          "name": "stdout",
          "text": [
            "['Python' 'c++' 'Excel']\n",
            "['Python' 'c++' 'Excel']\n"
          ]
        }
      ]
    },
    {
      "cell_type": "code",
      "source": [
        "a = np.array(['Python', 'Sql', 'Excel'])\n",
        "b = a.view()\n",
        "a[1]='c'  #changing original array\n",
        "print(a)\n",
        "print(b)"
      ],
      "metadata": {
        "colab": {
          "base_uri": "https://localhost:8080/"
        },
        "id": "GY-io0G3ZBQX",
        "outputId": "ea025c26-7c8d-49fd-8542-615f7c4414d9"
      },
      "execution_count": null,
      "outputs": [
        {
          "output_type": "stream",
          "name": "stdout",
          "text": [
            "['Python' 'c' 'Excel']\n",
            "['Python' 'c' 'Excel']\n"
          ]
        }
      ]
    },
    {
      "cell_type": "markdown",
      "source": [
        "Shape of an array"
      ],
      "metadata": {
        "id": "kkzZwVIleECi"
      }
    },
    {
      "cell_type": "code",
      "source": [
        "a = np.array([[1,2,3,4],[5,6,7,8], [6,8,9,1]])\n",
        "print(a.shape)"
      ],
      "metadata": {
        "colab": {
          "base_uri": "https://localhost:8080/"
        },
        "id": "Dts0rX81eGXx",
        "outputId": "be3624f7-d7eb-4222-8e95-7d356db6aa21"
      },
      "execution_count": null,
      "outputs": [
        {
          "output_type": "stream",
          "name": "stdout",
          "text": [
            "(3, 4)\n"
          ]
        }
      ]
    },
    {
      "cell_type": "code",
      "source": [
        "a = np.array([1,2,3,4])\n",
        "print(a.shape)"
      ],
      "metadata": {
        "colab": {
          "base_uri": "https://localhost:8080/"
        },
        "id": "whVcJJY_faFA",
        "outputId": "a925325e-581f-4d0a-95fc-7bbc571430a9"
      },
      "execution_count": null,
      "outputs": [
        {
          "output_type": "stream",
          "name": "stdout",
          "text": [
            "(4,)\n"
          ]
        }
      ]
    },
    {
      "cell_type": "code",
      "source": [
        "a = np.array([1,2,3,4], ndmin = 4)\n",
        "print(a)\n",
        "print(a.shape)"
      ],
      "metadata": {
        "colab": {
          "base_uri": "https://localhost:8080/"
        },
        "id": "iaem3pYVD6bL",
        "outputId": "65a694a0-233d-4fa2-800c-4853e6788385"
      },
      "execution_count": null,
      "outputs": [
        {
          "output_type": "stream",
          "name": "stdout",
          "text": [
            "[[[[1 2 3 4]]]]\n",
            "(1, 1, 1, 4)\n"
          ]
        }
      ]
    },
    {
      "cell_type": "markdown",
      "source": [
        "#Reshaping arrays\n",
        "Reshaping means changing the shape of an array.\n",
        "\n",
        "The shape of an array is the number of elements in each dimension.\n",
        "\n",
        "By reshaping we can add or remove dimensions or change number of elements in each dimension."
      ],
      "metadata": {
        "id": "bYREwxrZHEeZ"
      }
    },
    {
      "cell_type": "code",
      "source": [
        "a = np.array([1,2,3,4,5,6,7,8,9,10,11,12])\n",
        "b = a.reshape(2,3, 2)\n",
        "print(b)"
      ],
      "metadata": {
        "colab": {
          "base_uri": "https://localhost:8080/"
        },
        "id": "1QPSBptEHIM_",
        "outputId": "a8294d15-8fd4-46f3-abe7-3444b9b34d56"
      },
      "execution_count": null,
      "outputs": [
        {
          "output_type": "stream",
          "name": "stdout",
          "text": [
            "[[[ 1  2]\n",
            "  [ 3  4]\n",
            "  [ 5  6]]\n",
            "\n",
            " [[ 7  8]\n",
            "  [ 9 10]\n",
            "  [11 12]]]\n"
          ]
        }
      ]
    },
    {
      "cell_type": "code",
      "source": [
        "a = np.array([1,2,3,4,5,6,7,8,9])\n",
        "b = a.reshape(3,3)\n",
        "print(b)"
      ],
      "metadata": {
        "colab": {
          "base_uri": "https://localhost:8080/"
        },
        "id": "AmQaBxZmIP2r",
        "outputId": "39108d03-057c-4476-8eab-a1c49e5f5d2a"
      },
      "execution_count": null,
      "outputs": [
        {
          "output_type": "stream",
          "name": "stdout",
          "text": [
            "[[1 2 3]\n",
            " [4 5 6]\n",
            " [7 8 9]]\n"
          ]
        }
      ]
    },
    {
      "cell_type": "markdown",
      "source": [
        "#Iterating Arrays\n",
        "Iterating means going through elements one by one.\n",
        "\n",
        "As we deal with multi-dimensional arrays in numpy, we can do this using basic for loop of python.\n",
        "\n",
        "If we iterate on a 1-D array it will go through each element one by one."
      ],
      "metadata": {
        "id": "Ewi4SynBDFlO"
      }
    },
    {
      "cell_type": "code",
      "source": [
        "#Iterating 1-D array\n",
        "a = np.array([1,2,3,4,5,6])\n",
        "for i in a:\n",
        "  print(i)"
      ],
      "metadata": {
        "colab": {
          "base_uri": "https://localhost:8080/"
        },
        "id": "4USivWYaDMqC",
        "outputId": "24f0c66b-81c4-430d-ac79-67308c2d9892"
      },
      "execution_count": null,
      "outputs": [
        {
          "output_type": "stream",
          "name": "stdout",
          "text": [
            "1\n",
            "2\n",
            "3\n",
            "4\n",
            "5\n",
            "6\n"
          ]
        }
      ]
    },
    {
      "cell_type": "code",
      "source": [
        "##Iterating 2-D array\n",
        "a = np.array([[1,2,3], [4,5,6]])\n",
        "for i in a:\n",
        "  print(i)"
      ],
      "metadata": {
        "colab": {
          "base_uri": "https://localhost:8080/"
        },
        "id": "MWAxcFF5V0q1",
        "outputId": "14c93d4f-eb97-46b0-bfb7-082b4e27148d"
      },
      "execution_count": null,
      "outputs": [
        {
          "output_type": "stream",
          "name": "stdout",
          "text": [
            "[1 2 3]\n",
            "[4 5 6]\n"
          ]
        }
      ]
    },
    {
      "cell_type": "code",
      "source": [
        "##Iterating 2-D array\n",
        "a = np.array([[1,2,3], [4,5,6]])\n",
        "for i in a:\n",
        "  for j in i:\n",
        "    print(j)"
      ],
      "metadata": {
        "colab": {
          "base_uri": "https://localhost:8080/"
        },
        "id": "LoINoxx0Dl7L",
        "outputId": "563ae5d3-4e48-48a4-ebce-0b20605d0fea"
      },
      "execution_count": null,
      "outputs": [
        {
          "output_type": "stream",
          "name": "stdout",
          "text": [
            "1\n",
            "2\n",
            "3\n",
            "4\n",
            "5\n",
            "6\n"
          ]
        }
      ]
    },
    {
      "cell_type": "code",
      "source": [
        "##Iterating 3-D array\n",
        "a = np.array([[[1,2,3], [4,5,6]], [[7,8,9], [10,11,12]]])\n",
        "for i in a:\n",
        "  for j in i:\n",
        "    print(j)"
      ],
      "metadata": {
        "colab": {
          "base_uri": "https://localhost:8080/"
        },
        "id": "TTKpwGTrN4JL",
        "outputId": "be81f532-0b34-4719-bac9-add5ea810bcc"
      },
      "execution_count": null,
      "outputs": [
        {
          "output_type": "stream",
          "name": "stdout",
          "text": [
            "[1 2 3]\n",
            "[4 5 6]\n",
            "[7 8 9]\n",
            "[10 11 12]\n"
          ]
        }
      ]
    },
    {
      "cell_type": "code",
      "source": [
        "##Iterating 3-D array\n",
        "a = np.array([[[1,2,3], [4,5,6]], [[7,8,9], [10,11,12]]])\n",
        "for i in a:\n",
        "  for j in i:\n",
        "    for b in j:\n",
        "      print(b)"
      ],
      "metadata": {
        "colab": {
          "base_uri": "https://localhost:8080/"
        },
        "id": "nHeId04yUv_m",
        "outputId": "5b51583c-c9d8-4b2e-bda7-b49d5cc73755"
      },
      "execution_count": null,
      "outputs": [
        {
          "output_type": "stream",
          "name": "stdout",
          "text": [
            "1\n",
            "2\n",
            "3\n",
            "4\n",
            "5\n",
            "6\n",
            "7\n",
            "8\n",
            "9\n",
            "10\n",
            "11\n",
            "12\n"
          ]
        }
      ]
    },
    {
      "cell_type": "markdown",
      "source": [
        "The function **nditer(**) is a helping function that can be used from very basic to very advanced iterations. It solves some basic issues which we face in iteration\n",
        "\n",
        "Iterating through each scalar of an array we need to use n for loops which can be difficult to write for arrays with very high dimensionality"
      ],
      "metadata": {
        "id": "25IvPwNTa66s"
      }
    },
    {
      "cell_type": "code",
      "source": [
        "a = np.array([[[1,2,3], [4,5,6]], [[7,8,9], [10,11,12]]])\n",
        "for i in np.nditer(a):\n",
        "  print(i)"
      ],
      "metadata": {
        "colab": {
          "base_uri": "https://localhost:8080/"
        },
        "id": "DkVaBEvXa6LN",
        "outputId": "0f9fb262-9c16-4efe-be29-861b29689796"
      },
      "execution_count": null,
      "outputs": [
        {
          "output_type": "stream",
          "name": "stdout",
          "text": [
            "1\n",
            "2\n",
            "3\n",
            "4\n",
            "5\n",
            "6\n",
            "7\n",
            "8\n",
            "9\n",
            "10\n",
            "11\n",
            "12\n"
          ]
        }
      ]
    },
    {
      "cell_type": "markdown",
      "source": [
        "We can use **op_dtypes** argument and pass it the expected datatype to change the datatype of elements while iterating.\n",
        "\n",
        "NumPy does not change the data type of the element in-place (where the element is in array) so it needs some other space to perform this action, that extra space is called buffer, and in order to enable it in **nditer(**) we pass **flags=['buffered'].**"
      ],
      "metadata": {
        "id": "Bj1EUU4YfBJ9"
      }
    },
    {
      "cell_type": "code",
      "source": [
        "a = np.array([1,2,3,4])\n",
        "for i in np.nditer(a, flags=['buffered'], op_dtypes = ['S']):\n",
        "  print(i)"
      ],
      "metadata": {
        "colab": {
          "base_uri": "https://localhost:8080/"
        },
        "id": "fj_Z0DcHfP5D",
        "outputId": "b205b3da-5d97-42a3-b77f-a00a8ecd1932"
      },
      "execution_count": null,
      "outputs": [
        {
          "output_type": "stream",
          "name": "stdout",
          "text": [
            "np.bytes_(b'1')\n",
            "np.bytes_(b'2')\n",
            "np.bytes_(b'3')\n",
            "np.bytes_(b'4')\n"
          ]
        }
      ]
    },
    {
      "cell_type": "markdown",
      "source": [
        "Enumeration means mentioning sequence number of somethings one by one.\n",
        "\n",
        "Sometimes we require corresponding index of the element while iterating, the **ndenumerate()** method can be used for those usecases."
      ],
      "metadata": {
        "id": "iOFsb_C1lcKF"
      }
    },
    {
      "cell_type": "code",
      "source": [
        "a = np.array([1,2,3,4])\n",
        "for idx, i in np.ndenumerate(a):\n",
        "  print(idx, i)"
      ],
      "metadata": {
        "colab": {
          "base_uri": "https://localhost:8080/"
        },
        "id": "VhoT5I33leeQ",
        "outputId": "d4156f7c-7bd8-4c8d-ea76-2e111cb84b16"
      },
      "execution_count": null,
      "outputs": [
        {
          "output_type": "stream",
          "name": "stdout",
          "text": [
            "(0,) 1\n",
            "(1,) 2\n",
            "(2,) 3\n",
            "(3,) 4\n"
          ]
        }
      ]
    },
    {
      "cell_type": "code",
      "source": [
        "a = np.array([[1,2,3], [4,5,6]])\n",
        "for idx, i in np.ndenumerate(a):\n",
        "  print(idx, i)"
      ],
      "metadata": {
        "colab": {
          "base_uri": "https://localhost:8080/"
        },
        "id": "jej-kuj1mZ_p",
        "outputId": "8296f4fb-d3c0-4f2f-f18a-20a7380be7d6"
      },
      "execution_count": null,
      "outputs": [
        {
          "output_type": "stream",
          "name": "stdout",
          "text": [
            "(0, 0) 1\n",
            "(0, 1) 2\n",
            "(0, 2) 3\n",
            "(1, 0) 4\n",
            "(1, 1) 5\n",
            "(1, 2) 6\n"
          ]
        }
      ]
    },
    {
      "cell_type": "code",
      "source": [
        "a = np.array([[[1,2,3], [4,5,6]], [[7,8,9], [10,11,12]]])\n",
        "for idx, i in np.ndenumerate(a):\n",
        "  print(idx, i)"
      ],
      "metadata": {
        "colab": {
          "base_uri": "https://localhost:8080/"
        },
        "id": "-9RaNriqmXCS",
        "outputId": "586ed022-d83c-4f27-f093-e5081b387fe3"
      },
      "execution_count": null,
      "outputs": [
        {
          "output_type": "stream",
          "name": "stdout",
          "text": [
            "(0, 0, 0) 1\n",
            "(0, 0, 1) 2\n",
            "(0, 0, 2) 3\n",
            "(0, 1, 0) 4\n",
            "(0, 1, 1) 5\n",
            "(0, 1, 2) 6\n",
            "(1, 0, 0) 7\n",
            "(1, 0, 1) 8\n",
            "(1, 0, 2) 9\n",
            "(1, 1, 0) 10\n",
            "(1, 1, 1) 11\n",
            "(1, 1, 2) 12\n"
          ]
        }
      ]
    },
    {
      "cell_type": "markdown",
      "source": [
        "#Splitting NumPy Arrays\n",
        "Splitting is reverse operation of Joining.\n",
        "\n",
        "Joining merges multiple arrays into one and Splitting breaks one array into multiple.\n",
        "\n",
        "We use **array_split(**) for splitting arrays,"
      ],
      "metadata": {
        "id": "k3mnt_T_eJ6L"
      }
    },
    {
      "cell_type": "code",
      "source": [
        "import numpy as np\n",
        "a = np.array([1,2,3,4,5,6,7,8,9])\n",
        "b = np.array_split(a,3)\n",
        "b"
      ],
      "metadata": {
        "colab": {
          "base_uri": "https://localhost:8080/"
        },
        "id": "yJZw4MTdeKht",
        "outputId": "fab85716-5c18-41c2-9c1d-343b26868de1"
      },
      "execution_count": 4,
      "outputs": [
        {
          "output_type": "execute_result",
          "data": {
            "text/plain": [
              "[array([1, 2, 3]), array([4, 5, 6]), array([7, 8, 9])]"
            ]
          },
          "metadata": {},
          "execution_count": 4
        }
      ]
    },
    {
      "cell_type": "code",
      "source": [
        "import numpy as np\n",
        "a = np.array([1,2,3,4,5,6,7,8,9])\n",
        "b = np.array_split(a,4)\n",
        "b"
      ],
      "metadata": {
        "colab": {
          "base_uri": "https://localhost:8080/"
        },
        "id": "XwEsmmy-fSPq",
        "outputId": "febafdab-86b4-4ec9-821b-f8e512e5c1bc"
      },
      "execution_count": 5,
      "outputs": [
        {
          "output_type": "execute_result",
          "data": {
            "text/plain": [
              "[array([1, 2, 3]), array([4, 5]), array([6, 7]), array([8, 9])]"
            ]
          },
          "metadata": {},
          "execution_count": 5
        }
      ]
    },
    {
      "cell_type": "code",
      "source": [
        "import numpy as np\n",
        "a = np.array([1,2,3,4,5,6,7,8,9])\n",
        "b = np.array_split(a,3)\n",
        "print(b)\n",
        "print(b[0])\n",
        "print(b[1])\n"
      ],
      "metadata": {
        "colab": {
          "base_uri": "https://localhost:8080/"
        },
        "id": "CuLj_tfwfYgv",
        "outputId": "1e8325cc-804e-4a05-8447-d2a81bbede60"
      },
      "execution_count": 9,
      "outputs": [
        {
          "output_type": "stream",
          "name": "stdout",
          "text": [
            "[array([1, 2, 3]), array([4, 5, 6]), array([7, 8, 9])]\n",
            "[1 2 3]\n",
            "[4 5 6]\n"
          ]
        }
      ]
    },
    {
      "cell_type": "markdown",
      "source": [
        "#Splitting 2-D Arrays"
      ],
      "metadata": {
        "id": "vsvncmZWfuwq"
      }
    },
    {
      "cell_type": "code",
      "source": [
        "a = np.array([[1,2], [3,4], [5,6],[7,8],[9,10]])\n",
        "b = np.array_split(a,3)\n",
        "b"
      ],
      "metadata": {
        "colab": {
          "base_uri": "https://localhost:8080/"
        },
        "id": "WSOr5N7Mhtp-",
        "outputId": "99aba59b-cd8d-4a4a-ddaf-972842834a30"
      },
      "execution_count": 11,
      "outputs": [
        {
          "output_type": "execute_result",
          "data": {
            "text/plain": [
              "[array([[1, 2],\n",
              "        [3, 4]]),\n",
              " array([[5, 6],\n",
              "        [7, 8]]),\n",
              " array([[ 9, 10]])]"
            ]
          },
          "metadata": {},
          "execution_count": 11
        }
      ]
    },
    {
      "cell_type": "markdown",
      "source": [
        "The above returns two 2-D arrays.\n",
        "\n",
        "We can specify which axis we want to do the split around.\n",
        "\n",
        "The example below also returns three 2-D arrays, but they are split along the column (axis=1)."
      ],
      "metadata": {
        "id": "YyPfjgufiqpv"
      }
    },
    {
      "cell_type": "code",
      "source": [
        "a = np.array([[1,2], [3,4], [5,6],[7,8],[9,10]])\n",
        "b = np.array_split(a,3, axis = 1)\n",
        "b"
      ],
      "metadata": {
        "colab": {
          "base_uri": "https://localhost:8080/"
        },
        "id": "ScjWEJXwi8K-",
        "outputId": "cb2aa213-27be-4c43-c8dd-bad517bb8f46"
      },
      "execution_count": 13,
      "outputs": [
        {
          "output_type": "execute_result",
          "data": {
            "text/plain": [
              "[array([[1],\n",
              "        [3],\n",
              "        [5],\n",
              "        [7],\n",
              "        [9]]),\n",
              " array([[ 2],\n",
              "        [ 4],\n",
              "        [ 6],\n",
              "        [ 8],\n",
              "        [10]]),\n",
              " array([], shape=(5, 0), dtype=int64)]"
            ]
          },
          "metadata": {},
          "execution_count": 13
        }
      ]
    },
    {
      "cell_type": "markdown",
      "source": [
        "An alternate solution is using hsplit() opposite of hstack()\n",
        "\n",
        "Similar alternates to vstack() and dstack() are available as vsplit() and dsplit()"
      ],
      "metadata": {
        "id": "IerOp5pBjdjf"
      }
    },
    {
      "cell_type": "code",
      "source": [
        "a = np.array([[1,2], [3,4], [5,6],[7,8],[9,10]])\n",
        "b = np.hsplit(a,2)\n",
        "b"
      ],
      "metadata": {
        "colab": {
          "base_uri": "https://localhost:8080/"
        },
        "id": "hNTTKY-njbYu",
        "outputId": "9a23f883-f929-407d-f334-60f02c3c7710"
      },
      "execution_count": 21,
      "outputs": [
        {
          "output_type": "execute_result",
          "data": {
            "text/plain": [
              "[array([[1],\n",
              "        [3],\n",
              "        [5],\n",
              "        [7],\n",
              "        [9]]),\n",
              " array([[ 2],\n",
              "        [ 4],\n",
              "        [ 6],\n",
              "        [ 8],\n",
              "        [10]])]"
            ]
          },
          "metadata": {},
          "execution_count": 21
        }
      ]
    },
    {
      "cell_type": "markdown",
      "source": [
        "#Searching Arrays\n",
        "\n",
        "You can search an array for a certain value, and return the indexes that get a match.\n",
        "\n",
        "To search an array, use the **where()** method.\n",
        "\n"
      ],
      "metadata": {
        "id": "E1r3dd1QkJsX"
      }
    },
    {
      "cell_type": "code",
      "source": [
        "a = np.array([1,2,3,4,5,6,1,1])\n",
        "b = np.where(a == 1)\n",
        "b"
      ],
      "metadata": {
        "colab": {
          "base_uri": "https://localhost:8080/"
        },
        "id": "UhHj2NIrkMGK",
        "outputId": "3bbbabca-3102-4e9a-efb1-e6315a086368"
      },
      "execution_count": 23,
      "outputs": [
        {
          "output_type": "execute_result",
          "data": {
            "text/plain": [
              "(array([0, 6, 7]),)"
            ]
          },
          "metadata": {},
          "execution_count": 23
        }
      ]
    },
    {
      "cell_type": "markdown",
      "source": [
        "we can find indexes where the values are odd or even"
      ],
      "metadata": {
        "id": "SW1jazzElJvs"
      }
    },
    {
      "cell_type": "code",
      "source": [
        "a = np.array([1,2,3,4,5,6,1,1])\n",
        "b = np.where(a%2== 1)\n",
        "b"
      ],
      "metadata": {
        "colab": {
          "base_uri": "https://localhost:8080/"
        },
        "id": "A71FI-FtlxUt",
        "outputId": "2e7236fd-8362-4ce5-c1da-1c137aafe417"
      },
      "execution_count": 24,
      "outputs": [
        {
          "output_type": "execute_result",
          "data": {
            "text/plain": [
              "(array([0, 2, 4, 6, 7]),)"
            ]
          },
          "metadata": {},
          "execution_count": 24
        }
      ]
    },
    {
      "cell_type": "code",
      "source": [
        "a = np.array([1,2,3,4,5,6,1,1])\n",
        "b = np.where(a%2== 0)\n",
        "b"
      ],
      "metadata": {
        "colab": {
          "base_uri": "https://localhost:8080/"
        },
        "id": "ZxhZx31kxSU8",
        "outputId": "392184da-75fb-4db5-86f0-3a7088049425"
      },
      "execution_count": 25,
      "outputs": [
        {
          "output_type": "execute_result",
          "data": {
            "text/plain": [
              "(array([1, 3, 5]),)"
            ]
          },
          "metadata": {},
          "execution_count": 25
        }
      ]
    },
    {
      "cell_type": "markdown",
      "source": [
        "There is a method called **searchsorted()** which performs a binary search in the array, and returns the index where the specified value would be inserted to maintain the search order."
      ],
      "metadata": {
        "id": "-Uz0KNlWyTmH"
      }
    },
    {
      "cell_type": "code",
      "source": [
        "a = np.array([3,6,7,8,9])\n",
        "b = np.searchsorted(a,7)\n",
        "b"
      ],
      "metadata": {
        "colab": {
          "base_uri": "https://localhost:8080/"
        },
        "id": "owXl8ZGEyjuO",
        "outputId": "0a8edf2f-1f05-40fe-b63d-215b9dc2ebd8"
      },
      "execution_count": 31,
      "outputs": [
        {
          "output_type": "execute_result",
          "data": {
            "text/plain": [
              "np.int64(2)"
            ]
          },
          "metadata": {},
          "execution_count": 31
        }
      ]
    },
    {
      "cell_type": "markdown",
      "source": [
        "By default the left most index is returned, but we can give **side='right'** to return the right most index instead."
      ],
      "metadata": {
        "id": "l1A_MD5kzcr4"
      }
    },
    {
      "cell_type": "code",
      "source": [
        "a = np.array([3,6,7,8,9])\n",
        "b = np.searchsorted(a,7, side='right')\n",
        "b"
      ],
      "metadata": {
        "colab": {
          "base_uri": "https://localhost:8080/"
        },
        "id": "GiMDaiRVzPIA",
        "outputId": "e4df97db-6093-4530-99cf-a804d5756dd1"
      },
      "execution_count": 32,
      "outputs": [
        {
          "output_type": "execute_result",
          "data": {
            "text/plain": [
              "np.int64(3)"
            ]
          },
          "metadata": {},
          "execution_count": 32
        }
      ]
    },
    {
      "cell_type": "markdown",
      "source": [
        "To search for more than one value, use an array with the specified values"
      ],
      "metadata": {
        "id": "0naW3cf8zxZ9"
      }
    },
    {
      "cell_type": "code",
      "source": [
        "a = np.array([3,6,7,8,9])\n",
        "b = np.searchsorted(a,[2,4,8])\n",
        "b"
      ],
      "metadata": {
        "colab": {
          "base_uri": "https://localhost:8080/"
        },
        "id": "Qw6tLxuhzynZ",
        "outputId": "cec287d4-43f7-4a1c-9e8c-f86d9e575eeb"
      },
      "execution_count": 33,
      "outputs": [
        {
          "output_type": "execute_result",
          "data": {
            "text/plain": [
              "array([0, 1, 3])"
            ]
          },
          "metadata": {},
          "execution_count": 33
        }
      ]
    },
    {
      "cell_type": "markdown",
      "source": [
        "#Sorting Arrays\n",
        "Sorting means putting elements in an ordered sequence.\n",
        "Sequence that has an order corresponding to elements, like numeric or alphabetical, ascending or descending.\n",
        "\n",
        "The NumPy ndarray object has a function called **sort()**, that will sort a specified array."
      ],
      "metadata": {
        "id": "fEEeHX0I0ndd"
      }
    },
    {
      "cell_type": "code",
      "source": [
        "a = ([5,3,7,9,2])\n",
        "print(np.sort(a))"
      ],
      "metadata": {
        "colab": {
          "base_uri": "https://localhost:8080/"
        },
        "id": "_mLXe9XT03YZ",
        "outputId": "1d814d85-85cc-432a-a713-74c5bf7941cb"
      },
      "execution_count": 34,
      "outputs": [
        {
          "output_type": "stream",
          "name": "stdout",
          "text": [
            "[2 3 5 7 9]\n"
          ]
        }
      ]
    },
    {
      "cell_type": "code",
      "source": [
        "a = ([True,True, False])\n",
        "print(np.sort(a))"
      ],
      "metadata": {
        "colab": {
          "base_uri": "https://localhost:8080/"
        },
        "id": "lL1Gks1q1D0X",
        "outputId": "efd5838e-791e-4cff-bf61-8240e9541bc8"
      },
      "execution_count": 35,
      "outputs": [
        {
          "output_type": "stream",
          "name": "stdout",
          "text": [
            "[False  True  True]\n"
          ]
        }
      ]
    },
    {
      "cell_type": "code",
      "source": [
        "a  = (['sql', 'Java', 'Python', 'Excel'])\n",
        "print(np.sort(a))"
      ],
      "metadata": {
        "colab": {
          "base_uri": "https://localhost:8080/"
        },
        "id": "g8WMsnFD1MAf",
        "outputId": "597f3273-fbef-4d47-cf3c-7081f8a636ac"
      },
      "execution_count": 36,
      "outputs": [
        {
          "output_type": "stream",
          "name": "stdout",
          "text": [
            "['Excel' 'Java' 'Python' 'sql']\n"
          ]
        }
      ]
    },
    {
      "cell_type": "code",
      "source": [
        "a = ([4,7,2], [9,3,7])\n",
        "print(np.sort(a))"
      ],
      "metadata": {
        "colab": {
          "base_uri": "https://localhost:8080/"
        },
        "id": "eSk9fcrT1Y6m",
        "outputId": "f4148f01-2f43-4923-fa99-1fd6f4d4550b"
      },
      "execution_count": 37,
      "outputs": [
        {
          "output_type": "stream",
          "name": "stdout",
          "text": [
            "[[2 4 7]\n",
            " [3 7 9]]\n"
          ]
        }
      ]
    },
    {
      "cell_type": "markdown",
      "source": [
        "#Filtering Arrays\n",
        "Getting some elements out of an existing array and creating a new array out of them is called filtering.\n",
        "\n",
        "In NumPy, you filter an array using a boolean index list.\n",
        "\n",
        "If the value at an index is True that element is contained in the filtered array, if the value at that index is False that element is excluded from the filtered array."
      ],
      "metadata": {
        "id": "0ZEHN2My3xHV"
      }
    },
    {
      "cell_type": "code",
      "source": [
        "a = np.array([15,16,17,18,19,20])\n",
        "x = [False,True,False,True,True,True]\n",
        "b = a[x]\n",
        "print(b)"
      ],
      "metadata": {
        "colab": {
          "base_uri": "https://localhost:8080/"
        },
        "id": "G9hkaW2t4Tgt",
        "outputId": "5018ed93-b9ac-4351-ac67-fa0564260d39"
      },
      "execution_count": 40,
      "outputs": [
        {
          "output_type": "stream",
          "name": "stdout",
          "text": [
            "[16 18 19 20]\n"
          ]
        }
      ]
    },
    {
      "cell_type": "code",
      "source": [
        "#filter array that will return only even elements from the original array:\n",
        "a = np.array([15,16,17,18,19,20])\n",
        "b = a%2 == 0\n",
        "c = a[b]\n",
        "c"
      ],
      "metadata": {
        "colab": {
          "base_uri": "https://localhost:8080/"
        },
        "id": "O_3tglt06BQR",
        "outputId": "a690b07a-0075-4f66-f858-224de50dfa66"
      },
      "execution_count": 47,
      "outputs": [
        {
          "output_type": "execute_result",
          "data": {
            "text/plain": [
              "array([16, 18, 20])"
            ]
          },
          "metadata": {},
          "execution_count": 47
        }
      ]
    },
    {
      "cell_type": "code",
      "source": [
        "#filter array that will return only values higher than 17:\n",
        "a = np.array([15,16,17,18,19,20])\n",
        "b = []\n",
        "for i in a:\n",
        "  if i>17:\n",
        "    b.append(True)\n",
        "  else:\n",
        "    b.append(False)\n",
        "c = a[b]\n",
        "print(b)\n",
        "print(c)"
      ],
      "metadata": {
        "colab": {
          "base_uri": "https://localhost:8080/"
        },
        "id": "NWNCQKaD52Ot",
        "outputId": "936a9205-a146-4f2a-ad74-45f0467d084a"
      },
      "execution_count": 44,
      "outputs": [
        {
          "output_type": "stream",
          "name": "stdout",
          "text": [
            "[False, False, False, True, True, True]\n",
            "[18 19 20]\n"
          ]
        }
      ]
    },
    {
      "cell_type": "code",
      "source": [
        "#filter array that will return only even elements from the original array:\n",
        "a = np.array([15,16,17,18,19,20])\n",
        "b = []\n",
        "for i in a:\n",
        "  if (i%2 == 0):\n",
        "    b.append(True)\n",
        "  else:\n",
        "    b.append(False)\n",
        "c = a[b]\n",
        "print(b)\n",
        "print(c)\n"
      ],
      "metadata": {
        "colab": {
          "base_uri": "https://localhost:8080/"
        },
        "id": "EjPWZdKK4zkr",
        "outputId": "09ecf15c-1bc2-40cd-9011-360205713a14"
      },
      "execution_count": 43,
      "outputs": [
        {
          "output_type": "stream",
          "name": "stdout",
          "text": [
            "[False, True, False, True, False, True]\n",
            "[16 18 20]\n"
          ]
        }
      ]
    },
    {
      "cell_type": "markdown",
      "source": [
        "We can print the values from the array where the condition is False (i.e., the elements that were not selected in the original code), you can **invert the boolean mask** and then use it to index the array.\n"
      ],
      "metadata": {
        "id": "XZFmaLfp7Ltd"
      }
    },
    {
      "cell_type": "code",
      "source": [
        "a = np.array([15,16,17,18,19,20])\n",
        "x = [False,True,False,True,False,True]\n",
        "x_inverted = np.logical_not(x)\n",
        "b = a[x_inverted]\n",
        "print(b)\n"
      ],
      "metadata": {
        "colab": {
          "base_uri": "https://localhost:8080/"
        },
        "id": "vtPK_Ca97Ukq",
        "outputId": "d6a42c01-9398-4446-9d65-a1b54fb8ad3b"
      },
      "execution_count": 53,
      "outputs": [
        {
          "output_type": "stream",
          "name": "stdout",
          "text": [
            "[15 17 19]\n"
          ]
        }
      ]
    }
  ]
}