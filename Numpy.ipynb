{
  "nbformat": 4,
  "nbformat_minor": 0,
  "metadata": {
    "colab": {
      "provenance": [],
      "authorship_tag": "ABX9TyPz3kzOk/oSy6kXZmC4SRf8",
      "include_colab_link": true
    },
    "kernelspec": {
      "name": "python3",
      "display_name": "Python 3"
    },
    "language_info": {
      "name": "python"
    }
  },
  "cells": [
    {
      "cell_type": "markdown",
      "metadata": {
        "id": "view-in-github",
        "colab_type": "text"
      },
      "source": [
        "<a href=\"https://colab.research.google.com/github/Abhinayarao/Machine-Learning/blob/main/Numpy.ipynb\" target=\"_parent\"><img src=\"https://colab.research.google.com/assets/colab-badge.svg\" alt=\"Open In Colab\"/></a>"
      ]
    },
    {
      "cell_type": "markdown",
      "source": [
        "#Numpy\n",
        "NumPy is a Python library used for working with arrays.\n",
        "\n",
        "It also has functions for working in domain of linear algebra, fourier transform, and matrices.\n",
        "\n",
        "NumPy stands for Numerical Python.\n",
        "\n",
        "NumPy arrays are stored at one continuous place in memory unlike lists, so processes can access and manipulate them very efficiently. This behavior is called locality of reference"
      ],
      "metadata": {
        "id": "KNl8rJutJ2V0"
      }
    },
    {
      "cell_type": "markdown",
      "source": [
        "NumPy is used to work with arrays. The array object in NumPy is called ndarray.\n",
        "\n",
        "*  We can create a NumPy ndarray object by using the array() function.\n",
        "*  To create an ndarray, we can pass a list, tuple or any array-like object into the array() method, and it will be converted into an ndarray\n"
      ],
      "metadata": {
        "id": "wVpcuWG1XtkA"
      }
    },
    {
      "cell_type": "code",
      "source": [
        "import numpy as np\n",
        "a = np.array(('python', 'Sql', 'Excel'))\n",
        "print(a)\n",
        "print(type(a))"
      ],
      "metadata": {
        "colab": {
          "base_uri": "https://localhost:8080/"
        },
        "id": "IxoA5IrDQhpk",
        "outputId": "32fecc46-4f25-4c9a-8b6d-c2ef38352863"
      },
      "execution_count": 2,
      "outputs": [
        {
          "output_type": "stream",
          "name": "stdout",
          "text": [
            "['python' 'Sql' 'Excel']\n",
            "<class 'numpy.ndarray'>\n"
          ]
        }
      ]
    },
    {
      "cell_type": "code",
      "source": [
        "#The version string is stored under __version__ attribute.\n",
        "print(np.__version__)"
      ],
      "metadata": {
        "colab": {
          "base_uri": "https://localhost:8080/"
        },
        "id": "Msgm_KZeRW2k",
        "outputId": "3d8ad4d7-eb6e-47d1-d4cb-63ec9ce9b2b1"
      },
      "execution_count": 11,
      "outputs": [
        {
          "output_type": "stream",
          "name": "stdout",
          "text": [
            "2.0.2\n"
          ]
        }
      ]
    },
    {
      "cell_type": "markdown",
      "source": [
        "#Dimensions in Arrays\n",
        "Dimensions are nothing but writing a data(columns) into array in numpy.The list we have written are columns. It should be in a equal sequence.\n",
        "\n",
        "For example to change the values in a table we'll write table data(columns) in numpy then we'll apply methods on it.\n",
        "\n",
        "NumPy Arrays provides the **ndim** attribute that returns an integer that tells us how many dimensions the array have.\n"
      ],
      "metadata": {
        "id": "H9Gjov4xeqGf"
      }
    },
    {
      "cell_type": "code",
      "source": [
        "\n",
        "a = np.array(8)\n",
        "b = np.array([1,2,3])\n",
        "c = np.array([[1,2,3], [4,5,6]])\n",
        "d = np.array([[[1,2,3], [4,5,6], [7,8,9]]])\n",
        "print(a.ndim)\n",
        "print(b.ndim)\n",
        "print(c.ndim)\n",
        "print(d.ndim)"
      ],
      "metadata": {
        "colab": {
          "base_uri": "https://localhost:8080/"
        },
        "id": "W_RrMY5wdm_U",
        "outputId": "ae17099b-c74e-4c3b-9447-ecfb63bf2b38"
      },
      "execution_count": 14,
      "outputs": [
        {
          "output_type": "stream",
          "name": "stdout",
          "text": [
            "0\n",
            "1\n",
            "2\n",
            "3\n"
          ]
        }
      ]
    },
    {
      "cell_type": "code",
      "source": [
        "#When the array is created, you can define the number of dimensions by using the ndmin argument.\n",
        "a = np.array([1,2,3,4], ndmin=4)\n",
        "print(a)"
      ],
      "metadata": {
        "colab": {
          "base_uri": "https://localhost:8080/"
        },
        "id": "bvlsEUfMgqIe",
        "outputId": "d72f6184-3ebc-49b3-859b-b34a83f53f82"
      },
      "execution_count": 17,
      "outputs": [
        {
          "output_type": "stream",
          "name": "stdout",
          "text": [
            "[[[[1 2 3 4]]]]\n"
          ]
        }
      ]
    },
    {
      "cell_type": "markdown",
      "source": [
        "Array Indexing"
      ],
      "metadata": {
        "id": "tCqXx2jqi9mN"
      }
    },
    {
      "cell_type": "code",
      "source": [
        "#Think of 2-D arrays like a table with rows and columns, where the dimension represents the row and the index represents the column.\n",
        "a = np.array([[1,2,3], [4,5,6]])\n",
        "print(a[0,2], a[1,2])"
      ],
      "metadata": {
        "colab": {
          "base_uri": "https://localhost:8080/"
        },
        "id": "nqy2xfs7i8hw",
        "outputId": "2b7617ec-2825-4a42-8ad7-dca4f53fb21b"
      },
      "execution_count": 21,
      "outputs": [
        {
          "output_type": "stream",
          "name": "stdout",
          "text": [
            "3 6\n"
          ]
        }
      ]
    },
    {
      "cell_type": "code",
      "source": [
        "#To access elements from 3-D arrays we can use comma separated integers representing the dimensions and the index of the element.\n",
        "d = np.array([[[1,2,3], [4,5,6]],[[7,8,9],[11,12,1]]])\n",
        "print(d[0,1,2])\n"
      ],
      "metadata": {
        "colab": {
          "base_uri": "https://localhost:8080/"
        },
        "id": "PDBvHrN8lQJo",
        "outputId": "c993994b-caea-4e5b-dbb4-6760dbc18879"
      },
      "execution_count": 29,
      "outputs": [
        {
          "output_type": "stream",
          "name": "stdout",
          "text": [
            "6\n"
          ]
        }
      ]
    },
    {
      "cell_type": "markdown",
      "source": [
        "Slicing"
      ],
      "metadata": {
        "id": "_bSCMfWqtBBl"
      }
    },
    {
      "cell_type": "code",
      "source": [
        "d = np.array([[[1,2,3], [4,5,6], [7,8,9]]])\n",
        "print(d[0,2,1])"
      ],
      "metadata": {
        "colab": {
          "base_uri": "https://localhost:8080/"
        },
        "id": "TtQ6yybJmQ-k",
        "outputId": "bc0a3565-9663-4c3c-fc45-8e816510a168"
      },
      "execution_count": 30,
      "outputs": [
        {
          "output_type": "stream",
          "name": "stdout",
          "text": [
            "8\n"
          ]
        }
      ]
    },
    {
      "cell_type": "markdown",
      "source": [
        "Use the step value to determine the **step** of the slicing"
      ],
      "metadata": {
        "id": "dnCLG2Nhwj_g"
      }
    },
    {
      "cell_type": "code",
      "source": [
        "a = np.array([1,2,3,4,5,6])\n",
        "print(a[0:5:2])"
      ],
      "metadata": {
        "colab": {
          "base_uri": "https://localhost:8080/"
        },
        "id": "Nm-bwdaonda2",
        "outputId": "8de44233-9ea3-4cfb-8f41-355fbd18cf25"
      },
      "execution_count": 34,
      "outputs": [
        {
          "output_type": "stream",
          "name": "stdout",
          "text": [
            "[1 3 5]\n"
          ]
        }
      ]
    },
    {
      "cell_type": "markdown",
      "source": [
        "2-D slicing"
      ],
      "metadata": {
        "id": "MO3qJ6Jkw6QO"
      }
    },
    {
      "cell_type": "code",
      "source": [
        "a = np.array([[1,2,3,0,9], [4,5,6,7,8]])\n",
        "print(a[1,0:3])"
      ],
      "metadata": {
        "colab": {
          "base_uri": "https://localhost:8080/"
        },
        "id": "1pATNRvaw6ib",
        "outputId": "976798ac-a72e-45ad-e4c6-870d130d9177"
      },
      "execution_count": 35,
      "outputs": [
        {
          "output_type": "stream",
          "name": "stdout",
          "text": [
            "[4 5 6]\n"
          ]
        }
      ]
    },
    {
      "cell_type": "code",
      "source": [
        "a = np.array([[1,2,3,0,9], [4,5,6,7,8]])\n",
        "print(a[0:2,0:3])"
      ],
      "metadata": {
        "colab": {
          "base_uri": "https://localhost:8080/"
        },
        "id": "_v6adTtcxUuT",
        "outputId": "f248ac13-907b-46d2-f007-9b58b1600e7a"
      },
      "execution_count": 36,
      "outputs": [
        {
          "output_type": "stream",
          "name": "stdout",
          "text": [
            "[[1 2 3]\n",
            " [4 5 6]]\n"
          ]
        }
      ]
    },
    {
      "cell_type": "code",
      "source": [
        "a = np.array([[1,2,3,0,9], [4,5,6,7,8]])\n",
        "print(a[0:2,2])"
      ],
      "metadata": {
        "colab": {
          "base_uri": "https://localhost:8080/"
        },
        "id": "s_8TbJkmxZcs",
        "outputId": "45185cb2-daa5-4239-efae-1b2f84f1c5e2"
      },
      "execution_count": 4,
      "outputs": [
        {
          "output_type": "stream",
          "name": "stdout",
          "text": [
            "[3 6]\n"
          ]
        }
      ]
    },
    {
      "cell_type": "markdown",
      "source": [
        "#Numpy Data Types\n",
        "NumPy has some extra data types, and refer to data types with one character, like i for integers, u for unsigned integers etc.\n",
        "\n",
        "Below is a list of all data types in NumPy and the characters used to represent them.\n",
        "\n",
        "* i - integer\n",
        "* b - boolean\n",
        "* u - unsigned integer\n",
        "* f - float\n",
        "* c - complex float\n",
        "* m - timedelta\n",
        "* M - datetime\n",
        "* O - object\n",
        "* S - string\n",
        "* U - unicode string\n",
        "* V - fixed chunk of memory for other type ( void )"
      ],
      "metadata": {
        "id": "ZsZ44S3-rtnh"
      }
    },
    {
      "cell_type": "code",
      "source": [
        "a = np.array([1,2,3,4,5,6])\n",
        "b = np.array(['Python', 'Sql', 'Excel'])\n",
        "c = np.array(['copyi'])\n",
        "print(a.dtype)\n",
        "print(b.dtype)\n",
        "print(c.dtype)"
      ],
      "metadata": {
        "colab": {
          "base_uri": "https://localhost:8080/"
        },
        "id": "rnq_jO87rNtd",
        "outputId": "d26b276f-3cb4-419f-b3f5-affe1a08b777"
      },
      "execution_count": 46,
      "outputs": [
        {
          "output_type": "stream",
          "name": "stdout",
          "text": [
            "int64\n",
            "<U6\n",
            "<U5\n"
          ]
        }
      ]
    },
    {
      "cell_type": "markdown",
      "source": [
        "the array() function to create arrays, this function can take an optional argument: dtype that allows us to define the expected data type of the array elements\n",
        "\n",
        "For i, u, f, S and U we can define size as well."
      ],
      "metadata": {
        "id": "MIYWVH7Cs2Re"
      }
    },
    {
      "cell_type": "code",
      "source": [
        "a = np.array([1,2,3,4,5,6], dtype = 'S')\n",
        "print(a)"
      ],
      "metadata": {
        "colab": {
          "base_uri": "https://localhost:8080/"
        },
        "id": "-ym8mPPKslHX",
        "outputId": "231c55ee-dff2-4b7f-c19b-7d4793e27b5a"
      },
      "execution_count": 9,
      "outputs": [
        {
          "output_type": "stream",
          "name": "stdout",
          "text": [
            "[b'1' b'2' b'3' b'4' b'5' b'6']\n"
          ]
        }
      ]
    },
    {
      "cell_type": "code",
      "source": [
        "#'i4' stands for 4-byte (32-bit) signed integer\n",
        "#So, all values in the array will be stored as 32-bit integers.\n",
        "a = np.array([1,2,3,4,5,6], dtype = 'i4')\n",
        "print(a)"
      ],
      "metadata": {
        "colab": {
          "base_uri": "https://localhost:8080/"
        },
        "id": "T9ukGwpNtKRg",
        "outputId": "7af9d5d7-0f6b-4684-ab44-797489fbba7f"
      },
      "execution_count": 22,
      "outputs": [
        {
          "output_type": "stream",
          "name": "stdout",
          "text": [
            "[1 2 3 4 5 6]\n"
          ]
        }
      ]
    },
    {
      "cell_type": "markdown",
      "source": [
        "The **astype()** function creates a copy of the array, and allows you to specify the data type as a parameter.\n",
        "\n",
        "The data type can be specified using a string, like 'f' for float, 'i' for integer etc. or you can use the data type directly like float for float and int for integer."
      ],
      "metadata": {
        "id": "sBSW-kSYwFP8"
      }
    },
    {
      "cell_type": "code",
      "source": [
        "a = np.array([1.2,5.6,3.3,4.6])\n",
        "b = a.astype('i')\n",
        "print(a.dtype)\n",
        "print(b)\n",
        "print(b.dtype)"
      ],
      "metadata": {
        "colab": {
          "base_uri": "https://localhost:8080/"
        },
        "id": "42rwbppKwJ1-",
        "outputId": "cac45361-4546-4872-e1a7-fbc860b0b3a7"
      },
      "execution_count": 37,
      "outputs": [
        {
          "output_type": "stream",
          "name": "stdout",
          "text": [
            "float64\n",
            "[1 5 3 4]\n",
            "int32\n"
          ]
        }
      ]
    },
    {
      "cell_type": "code",
      "source": [
        "a = np.array([1,0,5, -1])\n",
        "b = a.astype(bool)\n",
        "print(a.dtype)\n",
        "print(b)\n",
        "print(b.dtype)\n"
      ],
      "metadata": {
        "colab": {
          "base_uri": "https://localhost:8080/"
        },
        "id": "pJfwSlJCxeHK",
        "outputId": "ecd4aca0-4d0d-4349-c0ae-3850c2b6c9de"
      },
      "execution_count": 45,
      "outputs": [
        {
          "output_type": "stream",
          "name": "stdout",
          "text": [
            "int64\n",
            "[ True False  True  True]\n",
            "bool\n"
          ]
        }
      ]
    },
    {
      "cell_type": "markdown",
      "source": [
        "#Copy and View\n",
        "* The copy owns the data and any changes made to the copy will not affect original array, and any changes made to the original array will not affect the copy.\n",
        "\n",
        "* The view does not own the data and any changes made to the view will affect the original array, and any changes made to the original array will affect the view."
      ],
      "metadata": {
        "id": "HzifvhX03OW2"
      }
    },
    {
      "cell_type": "code",
      "source": [
        "a = np.array(['Python', 'Sql', 'Excel'])\n",
        "b = a.copy()\n",
        "b[1]='Java'  #changing copied array\n",
        "print(a)\n",
        "print(b)"
      ],
      "metadata": {
        "colab": {
          "base_uri": "https://localhost:8080/"
        },
        "id": "SzXDKU243ney",
        "outputId": "e0971597-2dcb-4a04-a981-d98216ef26aa"
      },
      "execution_count": 49,
      "outputs": [
        {
          "output_type": "stream",
          "name": "stdout",
          "text": [
            "['Python' 'Sql' 'Excel']\n",
            "['Python' 'Java' 'Excel']\n"
          ]
        }
      ]
    },
    {
      "cell_type": "code",
      "source": [
        "a = np.array(['Python', 'Sql', 'Excel'])\n",
        "b = a.copy()\n",
        "a[1]='Java'  #changing original array\n",
        "print(a)\n",
        "print(b)"
      ],
      "metadata": {
        "colab": {
          "base_uri": "https://localhost:8080/"
        },
        "id": "nHurJQeSbYaf",
        "outputId": "9ef6a771-7eae-4e90-c25d-3027268f2ff1"
      },
      "execution_count": 52,
      "outputs": [
        {
          "output_type": "stream",
          "name": "stdout",
          "text": [
            "['Python' 'Java' 'Excel']\n",
            "['Python' 'Sql' 'Excel']\n"
          ]
        }
      ]
    },
    {
      "cell_type": "code",
      "source": [
        "a = np.array(['Python', 'Sql', 'Excel'])\n",
        "b = a.view()\n",
        "b[1]='c++'  #changing view array\n",
        "print(a)\n",
        "print(b)"
      ],
      "metadata": {
        "colab": {
          "base_uri": "https://localhost:8080/"
        },
        "id": "TFH7EGBlZA9X",
        "outputId": "db36a7cf-1a9a-4cd3-8110-51be30dc75a2"
      },
      "execution_count": 50,
      "outputs": [
        {
          "output_type": "stream",
          "name": "stdout",
          "text": [
            "['Python' 'c++' 'Excel']\n",
            "['Python' 'c++' 'Excel']\n"
          ]
        }
      ]
    },
    {
      "cell_type": "code",
      "source": [
        "a = np.array(['Python', 'Sql', 'Excel'])\n",
        "b = a.view()\n",
        "a[1]='c'  #changing original array\n",
        "print(a)\n",
        "print(b)"
      ],
      "metadata": {
        "colab": {
          "base_uri": "https://localhost:8080/"
        },
        "id": "GY-io0G3ZBQX",
        "outputId": "ea025c26-7c8d-49fd-8542-615f7c4414d9"
      },
      "execution_count": 51,
      "outputs": [
        {
          "output_type": "stream",
          "name": "stdout",
          "text": [
            "['Python' 'c' 'Excel']\n",
            "['Python' 'c' 'Excel']\n"
          ]
        }
      ]
    },
    {
      "cell_type": "markdown",
      "source": [
        "Shape of an array"
      ],
      "metadata": {
        "id": "kkzZwVIleECi"
      }
    },
    {
      "cell_type": "code",
      "source": [
        "a = np.array([[1,2,3,4],[5,6,7,8], [6,8,9,1]])\n",
        "print(a.shape)"
      ],
      "metadata": {
        "colab": {
          "base_uri": "https://localhost:8080/"
        },
        "id": "Dts0rX81eGXx",
        "outputId": "be3624f7-d7eb-4222-8e95-7d356db6aa21"
      },
      "execution_count": 57,
      "outputs": [
        {
          "output_type": "stream",
          "name": "stdout",
          "text": [
            "(3, 4)\n"
          ]
        }
      ]
    },
    {
      "cell_type": "code",
      "source": [
        "a = np.array([1,2,3,4])\n",
        "print(a.shape)"
      ],
      "metadata": {
        "colab": {
          "base_uri": "https://localhost:8080/"
        },
        "id": "whVcJJY_faFA",
        "outputId": "a925325e-581f-4d0a-95fc-7bbc571430a9"
      },
      "execution_count": 58,
      "outputs": [
        {
          "output_type": "stream",
          "name": "stdout",
          "text": [
            "(4,)\n"
          ]
        }
      ]
    }
  ]
}