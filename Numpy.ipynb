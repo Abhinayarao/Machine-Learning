{
  "nbformat": 4,
  "nbformat_minor": 0,
  "metadata": {
    "colab": {
      "provenance": [],
      "authorship_tag": "ABX9TyMVL8d8b9gTRIAbbYc2IpNX",
      "include_colab_link": true
    },
    "kernelspec": {
      "name": "python3",
      "display_name": "Python 3"
    },
    "language_info": {
      "name": "python"
    }
  },
  "cells": [
    {
      "cell_type": "markdown",
      "metadata": {
        "id": "view-in-github",
        "colab_type": "text"
      },
      "source": [
        "<a href=\"https://colab.research.google.com/github/Abhinayarao/Machine-Learning/blob/main/Numpy.ipynb\" target=\"_parent\"><img src=\"https://colab.research.google.com/assets/colab-badge.svg\" alt=\"Open In Colab\"/></a>"
      ]
    },
    {
      "cell_type": "markdown",
      "source": [
        "#Numpy\n",
        "NumPy is a Python library used for working with arrays.\n",
        "\n",
        "It also has functions for working in domain of linear algebra, fourier transform, and matrices.\n",
        "\n",
        "NumPy stands for Numerical Python.\n",
        "\n",
        "NumPy arrays are stored at one continuous place in memory unlike lists, so processes can access and manipulate them very efficiently. This behavior is called locality of reference"
      ],
      "metadata": {
        "id": "KNl8rJutJ2V0"
      }
    },
    {
      "cell_type": "markdown",
      "source": [
        "NumPy is used to work with arrays. The array object in NumPy is called ndarray.\n",
        "\n",
        "*  We can create a NumPy ndarray object by using the array() function.\n",
        "*  To create an ndarray, we can pass a list, tuple or any array-like object into the array() method, and it will be converted into an ndarray\n"
      ],
      "metadata": {
        "id": "wVpcuWG1XtkA"
      }
    },
    {
      "cell_type": "code",
      "source": [
        "import numpy as np\n",
        "a = np.array(('python', 'Sql', 'Excel'))\n",
        "print(a)\n",
        "print(type(a))"
      ],
      "metadata": {
        "colab": {
          "base_uri": "https://localhost:8080/"
        },
        "id": "IxoA5IrDQhpk",
        "outputId": "5f5e620c-5669-4d3e-f4c3-eb2e33ea592b"
      },
      "execution_count": 10,
      "outputs": [
        {
          "output_type": "stream",
          "name": "stdout",
          "text": [
            "['python' 'Sql' 'Excel']\n",
            "<class 'numpy.ndarray'>\n"
          ]
        }
      ]
    },
    {
      "cell_type": "code",
      "source": [
        "#The version string is stored under __version__ attribute.\n",
        "print(np.__version__)"
      ],
      "metadata": {
        "colab": {
          "base_uri": "https://localhost:8080/"
        },
        "id": "Msgm_KZeRW2k",
        "outputId": "3d8ad4d7-eb6e-47d1-d4cb-63ec9ce9b2b1"
      },
      "execution_count": 11,
      "outputs": [
        {
          "output_type": "stream",
          "name": "stdout",
          "text": [
            "2.0.2\n"
          ]
        }
      ]
    },
    {
      "cell_type": "markdown",
      "source": [
        "#Dimensions in Arrays\n",
        "Dimensions are nothing but writing a data(columns) into array in numpy.The list we have written are columns. It should be in a equal sequence.\n",
        "\n",
        "For example to change the values in a table we'll write table data(columns) in numpy then we'll apply methods on it.\n"
      ],
      "metadata": {
        "id": "H9Gjov4xeqGf"
      }
    },
    {
      "cell_type": "code",
      "source": [
        "#NumPy Arrays provides the ndim attribute that returns an integer that tells us how many dimensions the array have.\n",
        "a = np.array(8)\n",
        "b = np.array([1,2,3])\n",
        "c = np.array([[1,2,3], [4,5,6]])\n",
        "d = np.array([[[1,2,3], [4,5,6], [7,8,9]]])\n",
        "print(a.ndim)\n",
        "print(b.ndim)\n",
        "print(c.ndim)\n",
        "print(d.ndim)"
      ],
      "metadata": {
        "colab": {
          "base_uri": "https://localhost:8080/"
        },
        "id": "W_RrMY5wdm_U",
        "outputId": "ae17099b-c74e-4c3b-9447-ecfb63bf2b38"
      },
      "execution_count": 14,
      "outputs": [
        {
          "output_type": "stream",
          "name": "stdout",
          "text": [
            "0\n",
            "1\n",
            "2\n",
            "3\n"
          ]
        }
      ]
    },
    {
      "cell_type": "code",
      "source": [
        "#When the array is created, you can define the number of dimensions by using the ndmin argument.\n",
        "a = np.array([1,2,3,4], ndmin=4)\n",
        "print(a)"
      ],
      "metadata": {
        "colab": {
          "base_uri": "https://localhost:8080/"
        },
        "id": "bvlsEUfMgqIe",
        "outputId": "d72f6184-3ebc-49b3-859b-b34a83f53f82"
      },
      "execution_count": 17,
      "outputs": [
        {
          "output_type": "stream",
          "name": "stdout",
          "text": [
            "[[[[1 2 3 4]]]]\n"
          ]
        }
      ]
    },
    {
      "cell_type": "markdown",
      "source": [
        "Array Indexing"
      ],
      "metadata": {
        "id": "tCqXx2jqi9mN"
      }
    },
    {
      "cell_type": "code",
      "source": [
        "#Think of 2-D arrays like a table with rows and columns, where the dimension represents the row and the index represents the column.\n",
        "a = np.array([[1,2,3], [4,5,6]])\n",
        "print(a[0,2], a[1,2])"
      ],
      "metadata": {
        "colab": {
          "base_uri": "https://localhost:8080/"
        },
        "id": "nqy2xfs7i8hw",
        "outputId": "2b7617ec-2825-4a42-8ad7-dca4f53fb21b"
      },
      "execution_count": 21,
      "outputs": [
        {
          "output_type": "stream",
          "name": "stdout",
          "text": [
            "3 6\n"
          ]
        }
      ]
    },
    {
      "cell_type": "code",
      "source": [
        "#To access elements from 3-D arrays we can use comma separated integers representing the dimensions and the index of the element.\n",
        "d = np.array([[[1,2,3], [4,5,6]],[[7,8,9],[11,12,1]]])\n",
        "print(d[0,1,2])\n"
      ],
      "metadata": {
        "colab": {
          "base_uri": "https://localhost:8080/"
        },
        "id": "PDBvHrN8lQJo",
        "outputId": "c993994b-caea-4e5b-dbb4-6760dbc18879"
      },
      "execution_count": 29,
      "outputs": [
        {
          "output_type": "stream",
          "name": "stdout",
          "text": [
            "6\n"
          ]
        }
      ]
    },
    {
      "cell_type": "markdown",
      "source": [
        "Slicing"
      ],
      "metadata": {
        "id": "_bSCMfWqtBBl"
      }
    },
    {
      "cell_type": "code",
      "source": [
        "d = np.array([[[1,2,3], [4,5,6], [7,8,9]]])\n",
        "print(d[0,2,1])"
      ],
      "metadata": {
        "colab": {
          "base_uri": "https://localhost:8080/"
        },
        "id": "TtQ6yybJmQ-k",
        "outputId": "bc0a3565-9663-4c3c-fc45-8e816510a168"
      },
      "execution_count": 30,
      "outputs": [
        {
          "output_type": "stream",
          "name": "stdout",
          "text": [
            "8\n"
          ]
        }
      ]
    },
    {
      "cell_type": "markdown",
      "source": [
        "Use the step value to determine the **step** of the slicing"
      ],
      "metadata": {
        "id": "dnCLG2Nhwj_g"
      }
    },
    {
      "cell_type": "code",
      "source": [
        "a = np.array([1,2,3,4,5,6])\n",
        "print(a[0:5:2])"
      ],
      "metadata": {
        "colab": {
          "base_uri": "https://localhost:8080/"
        },
        "id": "Nm-bwdaonda2",
        "outputId": "8de44233-9ea3-4cfb-8f41-355fbd18cf25"
      },
      "execution_count": 34,
      "outputs": [
        {
          "output_type": "stream",
          "name": "stdout",
          "text": [
            "[1 3 5]\n"
          ]
        }
      ]
    },
    {
      "cell_type": "markdown",
      "source": [
        "2-D slicing"
      ],
      "metadata": {
        "id": "MO3qJ6Jkw6QO"
      }
    },
    {
      "cell_type": "code",
      "source": [
        "a = np.array([[1,2,3,0,9], [4,5,6,7,8]])\n",
        "print(a[1,0:3])"
      ],
      "metadata": {
        "colab": {
          "base_uri": "https://localhost:8080/"
        },
        "id": "1pATNRvaw6ib",
        "outputId": "976798ac-a72e-45ad-e4c6-870d130d9177"
      },
      "execution_count": 35,
      "outputs": [
        {
          "output_type": "stream",
          "name": "stdout",
          "text": [
            "[4 5 6]\n"
          ]
        }
      ]
    },
    {
      "cell_type": "code",
      "source": [
        "a = np.array([[1,2,3,0,9], [4,5,6,7,8]])\n",
        "print(a[0:2,0:3])"
      ],
      "metadata": {
        "colab": {
          "base_uri": "https://localhost:8080/"
        },
        "id": "_v6adTtcxUuT",
        "outputId": "f248ac13-907b-46d2-f007-9b58b1600e7a"
      },
      "execution_count": 36,
      "outputs": [
        {
          "output_type": "stream",
          "name": "stdout",
          "text": [
            "[[1 2 3]\n",
            " [4 5 6]]\n"
          ]
        }
      ]
    },
    {
      "cell_type": "code",
      "source": [
        "a = np.array([[1,2,3,0,9], [4,5,6,7,8]])\n",
        "print(a[0:2,2])"
      ],
      "metadata": {
        "colab": {
          "base_uri": "https://localhost:8080/"
        },
        "id": "s_8TbJkmxZcs",
        "outputId": "dbd0828c-c06d-4d46-aeda-a6f37b2abbee"
      },
      "execution_count": 37,
      "outputs": [
        {
          "output_type": "stream",
          "name": "stdout",
          "text": [
            "[3 6]\n"
          ]
        }
      ]
    }
  ]
}